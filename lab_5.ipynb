{
 "cells": [
  {
   "cell_type": "markdown",
   "metadata": {},
   "source": [
    "# Laboratorium 5\n",
    "### Klasy\n",
    "Uzupełnij brakujące metody poniższej klasy."
   ]
  },
  {
   "cell_type": "code",
   "execution_count": 3,
   "metadata": {},
   "outputs": [
    {
     "name": "stdout",
     "output_type": "stream",
     "text": [
      "True\nTrue\nTrue\nTrue\nTrue\nTrue\nTrue\nTrue\n{{ jacek : 0, ala : 1}, { ala : 2}, { ala : 4}}\n"
     ]
    }
   ],
   "source": [
    "class FrozenDictionary(object):\n",
    "    \"\"\"\n",
    "    Odpowiednik frozenset dla zbiorów, czyli słownik, który nie jest modyfikowalny,\n",
    "    a dzięki temu może być np. elementem zbiorów, albo kluczem w innym słowniku.\n",
    "    \"\"\"\n",
    "\n",
    "    def __init__(self, dictionary):\n",
    "        \"\"\"Tworzy nowy zamrożony słownik z podanego słownika\"\"\"\n",
    "        self.dict = dictionary\n",
    "\n",
    "    def __hash__(self):\n",
    "        \"\"\"Zwraca hasz słownika (int)\"\"\"\n",
    "        return hash(tuple(sorted(self.dict.items())))\n",
    "\n",
    "    def __eq__(self, d):\n",
    "        \"\"\"Porównuje nasz słownik z zamrożonym słownikiem d\"\"\"\n",
    "        return self.dict == d.dict\n",
    "\n",
    "    def __repr__(self):\n",
    "        \"\"\"Zwraca reprezentację naszego słownika jako string\"\"\"\n",
    "        elements = ', '.join(['{0} : {1}'.format(key, value) for key, value in self.dict.items()])\n",
    "        return '{ ' + elements + '}'\n",
    "        \n",
    "\n",
    "dicts = [FrozenDictionary({'ala': 4}),\n",
    "         FrozenDictionary({'ala': 1, 'jacek': 0}),\n",
    "         FrozenDictionary({'ala': 4}),\n",
    "         FrozenDictionary({'ala': 2}),\n",
    "         FrozenDictionary({'jacek': 0, 'ala': 1})]\n",
    "\n",
    "s = set(dicts)\n",
    "print(dicts[0] == dicts[2])\n",
    "print(dicts[0] != dicts[3])\n",
    "print(len(s) == 3)\n",
    "for d in dicts:\n",
    "    print(d in s)\n",
    "\n",
    "# Powinno wyświetlić coś w stylu set([{'ala': 4}, {'ala': 1, 'jacek': 0}, {'ala': 2}])\n",
    "print(s)\n"
   ]
  },
  {
   "cell_type": "markdown",
   "metadata": {
    "collapsed": true
   },
   "source": [
    "#### Bag of Words\n",
    "Napisz klasę \"Bag of words\", która będzie \"workiem słów\" z zadanego dokumentu. Oznacza to, że ma w sobie przechowywać informacje o tym ile razy każde słowo wystąpiło w dokumencie. Dodatkowo ma udostępniać następującą funkcjonalność:\n",
    "* Można utworzyć go na dwa sposoby:\n",
    "```\n",
    "bow = BagOfWords(\"ala ma kota ala ma ala\")\n",
    "bow = BagOfWords(open(\"plik.txt\"))\n",
    "```\n",
    "* Możliwość wyświetlania go po prostu pisząc print(bow) (kolejność taka sama jak przy przeglądaniu forem)\n",
    "```\n",
    "ala:3, ma:2, kota:1\n",
    "```\n",
    "* Sprawdzanie czy jakieś słowo należy do naszego worka pisząc\n",
    "```\n",
    "if 'ala' in bow:\n",
    "    ...\n",
    "```\n",
    "* Przeglądanie słów w worku od najczęściej do najrzadziej występującego, czyli\n",
    "```\n",
    "for word in bow:\n",
    "  print(word)\n",
    "```\n",
    "    powinniśmy zobaczyć\n",
    "```\n",
    "ala\n",
    "ma\n",
    "kota\n",
    "```\n",
    "* Możliwość dodawania dwóch worków, pisząc\n",
    "```\n",
    "bow1 = BagOfWords(\"ala ma kota ala ma ala\")\n",
    "bow2 = BagOfWords(\"tomek tez ma kota\")\n",
    "bow3 = bow1 + bow2\n",
    "print('tomek' in bow1) # False\n",
    "print('tomek' in bow3) # True\n",
    "print('ala' in bow3) # True\n",
    "print(bow3) # ala:3, ma:3, kota:2, tez:1, tomek:1\n",
    "    ```\n",
    "* Odczytywanie częstości wystąpień słów poprzez nawiasy kwadratowe\n",
    "```\n",
    "print(bow1[\"ala\"]) # 3\n",
    "print(bow3[\"ala\"]) # 3\n",
    "```\n",
    "* Aktualizację cześtości wystąpień\n",
    "```\n",
    "bow3['tomek'] = 10\n",
    "for el in bow3:\n",
    "    print el\n",
    "```\n",
    "    powinno wyświetlić najpierw `tomek`"
   ]
  },
  {
   "cell_type": "code",
   "execution_count": 3,
   "metadata": {
    "collapsed": true
   },
   "outputs": [
    {
     "name": "stdout",
     "output_type": "stream",
     "text": [
      "False\nTrue\nTrue\nala:3, ma:3, kota:2, tez:1, tomek:1\n3\n3\ntomek 10\nala 3\nma 3\nkota 2\ntez 1\n"
     ]
    }
   ],
   "source": [
    "from io import TextIOWrapper\n",
    "from functools import reduce\n",
    "\n",
    "\n",
    "class BagOfWords:\n",
    "    def __init__(self, arg):\n",
    "        self.frequency = {}\n",
    "        if isinstance(arg, TextIOWrapper):\n",
    "            self.raw = reduce(lambda previous, current: previous + current, arg, '')\n",
    "        else:\n",
    "            self.raw = arg\n",
    "        for word in self.raw.split(' '):\n",
    "            self.frequency[word] = self.frequency.setdefault(word, 0) + 1\n",
    "\n",
    "    def get_sorted(self):\n",
    "        return sorted(self.frequency.items(), key=lambda x: -x[1])\n",
    "    \n",
    "    def __contains__(self, item):\n",
    "        return item in self.frequency.keys()\n",
    "\n",
    "    def __repr__(self):\n",
    "        return ', '.join(list(map(lambda x: '{0}:{1}'.format(*x), self.get_sorted())))\n",
    "\n",
    "    def __getitem__(self, item):\n",
    "        return self.frequency[item]\n",
    "\n",
    "    def __setitem__(self, key, value):\n",
    "        self.frequency[key] = value\n",
    "\n",
    "    def __iter__(self):\n",
    "        return iter(map(lambda x: x[0], self.get_sorted()))\n",
    "\n",
    "    def __add__(self, other):\n",
    "        return BagOfWords(self.raw + ' ' + other.raw)\n",
    "\n",
    "\n",
    "bow1 = BagOfWords(\"ala ma kota ala ma ala\")\n",
    "bow2 = BagOfWords(\"tomek tez ma kota\")\n",
    "bow3 = bow1 + bow2\n",
    "print('tomek' in bow1)  # False\n",
    "print('tomek' in bow3)  # True\n",
    "print('ala' in bow3)  # True\n",
    "print(bow3)  # ala:3, ma:3, kota:2, tez:1, tomek:1\n",
    "\n",
    "print(bow1[\"ala\"])  # 3\n",
    "print(bow3[\"ala\"])  # 3\n",
    "\n",
    "bow3['tomek'] = 10\n",
    "for el in bow3:\n",
    "    print(el, bow3[el])\n"
   ]
  },
  {
   "cell_type": "markdown",
   "metadata": {},
   "source": [
    "#### Set of Words\n",
    "Napisz klasę pochodną o nazwie `SetOfWords`, która zapamiętuje jedynie które słowa wystąpiły, bez zliczania ile razy. Powinno zmienić się wyświetlanie (zamiast `ala:3, ma:2, kota:1` powinniśmy zobaczyć `ala, ma, kota`), postaraj się napisać ją jak najwydaniej, z których elementów obecnych wewnątrz klasy `BagOfWords` możesz zrezygnować? Dlaczego? Jak dużo kodu musisz zmodyfikować by mieć z jednej strony poprawną implementację a z drugiej jak najmniej zmienić klasy bazowej?"
   ]
  },
  {
   "cell_type": "code",
   "execution_count": 4,
   "metadata": {
    "collapsed": true
   },
   "outputs": [
    {
     "name": "stdout",
     "output_type": "stream",
     "text": [
      "ala\nma\nkota\n\nma\nkota\nala\ntez\ntomek\n"
     ]
    }
   ],
   "source": [
    "class SetOfWords(BagOfWords):\n",
    "    def __getitem__(self, item):\n",
    "        raise TypeError('SetOfWords is not subscriptable')\n",
    "\n",
    "    def __setitem__(self, key, value):\n",
    "        raise TypeError('SetOfWords is not subscriptable')\n",
    "\n",
    "    def __repr__(self):\n",
    "        return ', '.join(list(map(lambda x: x[0], self.get_sorted())))\n",
    "\n",
    "\n",
    "set1 = SetOfWords(\"ala ma kota ma ala\")\n",
    "for word in set1:\n",
    "    print(word)\n",
    "print()\n",
    "\n",
    "set2 = SetOfWords('tomek tez ma kota kota')\n",
    "set3 = set1 + set2\n",
    "\n",
    "for word in set3:\n",
    "    print(word)"
   ]
  },
  {
   "cell_type": "markdown",
   "metadata": {},
   "source": [
    "### Zadanie dodatkowe\n",
    "Przerób implementację `BagOfWords` na `BagOfPairsOfWords`, gdzie zamiast przechowywać liczność pojedynczych słów, przechowuj jak wiele razy wystąpiły obok siebie pary słów, np.\n",
    "```\n",
    "\"ala ma kota ala ma psa\"\n",
    "```\n",
    "\n",
    "zawiera następujące pary:\n",
    "```\n",
    "(None, 'ala'): 1\n",
    "('ala', 'ma'): 2\n",
    "('ma', 'kota'): 1\n",
    "('kota', 'ala'): 1\n",
    "('ma', 'psa'): 1\n",
    "('psa', None): 1\n",
    "```\n",
    "\n",
    "Powinny działać wszystkie funkcjonalności `BagOfWords`, po prostu pracujemy na parach, czyli np.\n",
    "```\n",
    "bopow = BagOfPairsOfWords('ala ma kota ala ma psa')\n",
    "bopow[('ala', 'ma')] == 2\n",
    "('ala', 'ma') in bopow\n",
    "for word1, word2 in bopow:\n",
    "    print(word1, word2, bopow[(word1, word2)])\n",
    "```\n",
    "\n",
    "Dodatkowo jeśli użytkownik poprosi o słowo, zamiast o parę to powinien dostać wszystkie słowa, z którymi zadane występuje w parze, czyli np.\n",
    "```\n",
    "for word in bopow['ala']:\n",
    "    print word, bopow[('ala', word)]\n",
    "```\n",
    "wyświetla\n",
    "```\n",
    "ma, 2\n",
    "```"
   ]
  },
  {
   "cell_type": "code",
   "execution_count": 2,
   "metadata": {},
   "outputs": [
    {
     "name": "stdout",
     "output_type": "stream",
     "text": [
      "('ala', 'ma'):2, ('ma', 'kota'):1, ('ma', 'psa'):1, ('psa', 'ala'):1, ('kota', 'ala'):1, ('ala', 'kota'):1\nTrue\nTrue\nala ma 2\nma kota 1\nma psa 1\npsa ala 1\nkota ala 1\nala kota 1\n\niterator po stringu\nma 2\nkota 1\n"
     ]
    }
   ],
   "source": [
    "def fst(iterable):\n",
    "    return iterable[0]\n",
    "\n",
    "\n",
    "def snd(iterable):\n",
    "    return iterable[1]\n",
    "\n",
    "\n",
    "class BagOfPairsOfWords:\n",
    "    def __init__(self, text):\n",
    "        self.frequency = {}\n",
    "        self.raw = text\n",
    "\n",
    "        words = text.split(' ')\n",
    "        pairs = zip(words, words[1:])\n",
    "        for w in pairs:\n",
    "            self.frequency[w] = self.frequency.setdefault(w, 0) + 1\n",
    "\n",
    "    def get_sorted(self):\n",
    "        return sorted(self.frequency.items(), key=lambda x: -x[1])\n",
    "\n",
    "    def __repr__(self):\n",
    "        return ', '.join(list(map(lambda x: '{0}:{1}'.format(*x), self.get_sorted())))\n",
    "\n",
    "    def __getitem__(self, item):\n",
    "        if type(item) is str:\n",
    "            keys_sorted = map(fst, self.get_sorted())\n",
    "            keys_with_item = filter(lambda x: x[0] == item, keys_sorted)\n",
    "            return iter(map(snd, keys_with_item))\n",
    "\n",
    "        return self.frequency[item]\n",
    "\n",
    "    def __setitem__(self, key, value):\n",
    "        self.frequency[key] = value\n",
    "\n",
    "    def __iter__(self):\n",
    "        return iter(map(lambda x: x[0], self.get_sorted()))\n",
    "\n",
    "    def __add__(self, other):\n",
    "        return BagOfWords(self.raw + ' ' + other.raw)\n",
    "\n",
    "\n",
    "bopow = BagOfPairsOfWords('ala ma kota ala ma psa ala kota')\n",
    "print(bopow)\n",
    "print(bopow[('ala', 'ma')] == 2)\n",
    "print(('ala', 'ma') in bopow)\n",
    "\n",
    "for word1, word2 in bopow:\n",
    "    print(word1, word2, bopow[(word1, word2)])\n",
    "\n",
    "print()\n",
    "print('iterator po stringu')\n",
    "for word in bopow['ala']:\n",
    "    print(word, bopow[('ala', word)])\n"
   ]
  },
  {
   "cell_type": "code",
   "execution_count": null,
   "metadata": {},
   "outputs": [],
   "source": []
  }
 ],
 "metadata": {
  "kernelspec": {
   "display_name": "Python 3",
   "language": "python",
   "name": "python3"
  },
  "language_info": {
   "codemirror_mode": {
    "name": "ipython",
    "version": 3
   },
   "file_extension": ".py",
   "mimetype": "text/x-python",
   "name": "python",
   "nbconvert_exporter": "python",
   "pygments_lexer": "ipython3",
   "version": "3.6.2"
  }
 },
 "nbformat": 4,
 "nbformat_minor": 1
}
