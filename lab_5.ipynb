{
 "cells": [
  {
   "cell_type": "markdown",
   "metadata": {},
   "source": [
    "# Laboratorium 4\n",
    "### Klasy\n",
    "Uzupełnij brakujące metody poniższej klasy."
   ]
  },
  {
   "cell_type": "code",
   "execution_count": null,
   "metadata": {
    "collapsed": false
   },
   "outputs": [],
   "source": [
    "class FrozenDictionary(object):\n",
    "    \"\"\"\n",
    "    Odpowiednik frozenset dla zbiorów, czyli słownik, który nie jest modyfikowalny,\n",
    "    a dzięki temu może być np. elementem zbiorów, albo kluczem w innym słowniku.\n",
    "    \"\"\"\n",
    "    \n",
    "    def __init__(self, dictionary):\n",
    "        \"\"\"Tworzy nowy zamrożony słownik z podanego słownika\"\"\"\n",
    "        pass\n",
    "    \n",
    "    def __hash__(self):\n",
    "        \"\"\"Zwraca hasz słownika (int)\"\"\"\n",
    "        pass\n",
    "    \n",
    "    def __eq__(self, d):\n",
    "        \"\"\"Porównuje nasz słownik z zamrożonym słownikiem d\"\"\"\n",
    "        pass\n",
    "    \n",
    "    def __repr__(self):\n",
    "        \"\"\"Zwraca reprezentację naszego słownika jako string\"\"\"\n",
    "        pass\n",
    "        \n",
    "dicts = [FrozenDictionary({'ala': 4}), \n",
    "         FrozenDictionary({'ala': 1, 'jacek': 0}),\n",
    "         FrozenDictionary({'ala': 4}), \n",
    "         FrozenDictionary({'ala': 2}), \n",
    "         FrozenDictionary({'jacek': 0, 'ala': 1})]\n",
    "\n",
    "s = set(dicts)\n",
    "print(dicts[0] == dicts[2])\n",
    "print(dicts[0] != dicts[3])\n",
    "print(len(s) == 3)\n",
    "for d in dicts:\n",
    "    print(d in s)\n",
    "\n",
    "# Powinno wyświetlić coś w stylu set([{'ala': 4}, {'ala': 1, 'jacek': 0}, {'ala': 2}])\n",
    "print(s)"
   ]
  },
  {
   "cell_type": "markdown",
   "metadata": {
    "collapsed": true
   },
   "source": [
    "#### Bag of Words\n",
    "Napisz klasę \"Bag of words\", która będzie \"workiem słów\" z zadanego dokumentu. Oznacza to, że ma w sobie przechowywać informacje o tym ile razy każde słowo wystąpiło w dokumencie. Dodatkowo ma udostępniać następującą funkcjonalność:\n",
    "* Można utworzyć go na dwa sposoby:\n",
    "```\n",
    "bow = BagOfWords(\"ala ma kota ala ma ala\")\n",
    "bow = BagOfWords(open(\"plik.txt\"))\n",
    "```\n",
    "* Możliwość wyświetlania go po prostu pisząc print(bow) (kolejność taka sama jak przy przeglądaniu forem)\n",
    "```\n",
    "ala:3, ma:2, kota:1\n",
    "```\n",
    "* Sprawdzanie czy jakieś słowo należy do naszego worka pisząc\n",
    "```\n",
    "if 'ala' in bow:\n",
    "    ...\n",
    "```\n",
    "* Przeglądanie słów w worku od najczęściej do najrzadziej występującego, czyli\n",
    "```\n",
    "for word in bow:\n",
    "  print(word)\n",
    "```\n",
    "    powinniśmy zobaczyć\n",
    "```\n",
    "ala\n",
    "ma\n",
    "kota\n",
    "```\n",
    "* Możliwość dodawania dwóch worków, pisząc\n",
    "```\n",
    "bow1 = BagOfWords(\"ala ma kota ala ma ala\")\n",
    "bow2 = BagOfWords(\"tomek tez ma kota\")\n",
    "bow3 = bow1 + bow2\n",
    "print('tomek' in bow1) # False\n",
    "print('tomek' in bow3) # True\n",
    "print('ala' in bow3) # True\n",
    "print(bow3) # ala:3, ma:3, kota:2, tez:1, tomek:1\n",
    "    ```\n",
    "* Odczytywanie częstości wystąpień słów poprzez nawiasy kwadratowe\n",
    "```\n",
    "print(bow1[\"ala\"]) # 3\n",
    "print(bow3[\"ala\"]) # 3\n",
    "```\n",
    "* Aktualizację cześtości wystąpień\n",
    "```\n",
    "bow3['tomek'] = 10\n",
    "for el in bow3:\n",
    "    print el\n",
    "```\n",
    "    powinno wyświetlić najpierw `tomek`"
   ]
  },
  {
   "cell_type": "code",
   "execution_count": null,
   "metadata": {
    "collapsed": true
   },
   "outputs": [],
   "source": [
    "class BagOfWords:\n",
    "    pass"
   ]
  },
  {
   "cell_type": "markdown",
   "metadata": {},
   "source": [
    "#### Set of Words\n",
    "Napisz klasę pochodną o nazwie `SetOfWords`, która zapamiętuje jedynie które słowa wystąpiły, bez zliczania ile razy. Powinno zmienić się wyświetlanie (zamiast `ala:3, ma:2, kota:1` powinniśmy zobaczyć `ala, ma, kota`), postaraj się napisać ją jak najwydaniej, z których elementów obecnych wewnątrz klasy `BagOfWords` możesz zrezygnować? Dlaczego? Jak dużo kodu musisz zmodyfikować by mieć z jednej strony poprawną implementację a z drugiej jak najmniej zmienić klasy bazowej?"
   ]
  },
  {
   "cell_type": "code",
   "execution_count": null,
   "metadata": {
    "collapsed": true
   },
   "outputs": [],
   "source": [
    "class SetOfWords(BagOfWords):\n",
    "    pass"
   ]
  },
  {
   "cell_type": "markdown",
   "metadata": {},
   "source": [
    "### Zadanie dodatkowe\n",
    "Przerób implementację `BagOfWords` na `BagOfPairsOfWords`, gdzie zamiast przechowywać liczność pojedynczych słów, przechowuj jak wiele razy wystąpiły obok siebie pary słów, np.\n",
    "```\n",
    "\"ala ma kota ala ma psa\"\n",
    "```\n",
    "\n",
    "zawiera następujące pary:\n",
    "```\n",
    "(None, 'ala'): 1\n",
    "('ala', 'ma'): 2\n",
    "('ma', 'kota'): 1\n",
    "('kota', 'ala'): 1\n",
    "('ma', 'psa'): 1\n",
    "('psa', None): 1\n",
    "```\n",
    "\n",
    "Powinny działać wszystkie funkcjonalności `BagOfWords`, po prostu pracujemy na parach, czyli np.\n",
    "```\n",
    "bopow = BagOfPairsOfWords('ala ma kota ala ma psa')\n",
    "bopow[('ala', 'ma')] == 2\n",
    "('ala', 'ma') in bopow\n",
    "for word1, word2 in bopow:\n",
    "    print(word1, word2, bopow[(word1, word2)])\n",
    "```\n",
    "\n",
    "Dodatkowo jeśli użytkownik poprosi o słowo, zamiast o parę to powinien dostać wszystkie słowa, z którymi zadane występuje w parze, czyli np.\n",
    "```\n",
    "for word in bopow['ala']:\n",
    "    print word, bopow[('ala', word)]\n",
    "```\n",
    "wyświetla\n",
    "```\n",
    "ma, 2\n",
    "```"
   ]
  }
 ],
 "metadata": {
  "kernelspec": {
   "display_name": "Python [default]",
   "language": "python",
   "name": "python2"
  },
  "language_info": {
   "codemirror_mode": {
    "name": "ipython",
    "version": 2
   },
   "file_extension": ".py",
   "mimetype": "text/x-python",
   "name": "python",
   "nbconvert_exporter": "python",
   "pygments_lexer": "ipython2",
   "version": "2.7.12"
  }
 },
 "nbformat": 4,
 "nbformat_minor": 0
}
