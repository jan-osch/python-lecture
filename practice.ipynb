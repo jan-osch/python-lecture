{
 "cells": [
  {
   "cell_type": "code",
   "execution_count": 3,
   "metadata": {
    "collapsed": false
   },
   "outputs": [
    {
     "name": "stdout",
     "output_type": "stream",
     "text": [
      "True\n"
     ]
    }
   ],
   "source": [
    "\n",
    "my_list = ['art', 'lean', 'desk', 'flavor', 'compare', 'secretive', 'narrow', 'flavor', 'flavor', 'miami', 'teaching',\n",
    "           'fire', 'rate', 'light', 'jump', 'offer', 'fold', 'abstract', 'box', 'story', 'bomb', 'grape', 'grin',\n",
    "           'jackhammer', 'torchlight', 'flugelhorn', 'verkrampte', 'grandchild', 'witchcraft', 'pawnbroker',\n",
    "           'cowpuncher', 'grandchild', 'protectrix', 'python', 'java', 'c++', 'monitor', 'mafia', 'think',\n",
    "           'new', 'york', 'fold', 'abstract', 'box', 'story', 'bomb', 'grape', 'grin', 'jackhammer', 'torchlight',\n",
    "           'flugelhorn', 'verkrampte', 'grandchild', 'witchcraft', 'pawnbroker', 'cowpuncher', 'grandchild',\n",
    "           'protectrix', 'python', 'java', 'c++', 'monitor', 'mafia', 'think', 'new', 'york', 'anaconda', 'apple',\n",
    "           'banana', 'shake', 'ipod', 'mutation', 'process', 'thread', 'water', 'drink', 'tea', 'cola', 'fender',\n",
    "           'steering', 'wheel', 'grape', 'bean', 'eban', 'iphone', 'android', 'keyboard', 'thinking', 'speaker', 'loud',\n",
    "           'permission', 'denied', 'natural', 'language', 'miracle', 'my', 'name', 'is', 'bond', 'dance']\n",
    "\n",
    "def f(given_list):\n",
    "    return list(set(given_list))\n",
    "    \n",
    "    \n",
    "print(len(f(my_list)) == 71)"
   ]
  },
  {
   "cell_type": "code",
   "execution_count": 4,
   "metadata": {},
   "outputs": [
    {
     "name": "stdout",
     "output_type": "stream",
     "text": [
      "Cupcake: 3\nipsum: 2\namet: 1\n[('Cupcake', 3), ('ipsum', 2), ('amet', 1)]\n"
     ]
    }
   ],
   "source": [
    "A = [\"Cupcake\", \"ipsum\", \"dolor\", \"sit\", \"amet\", \"marshmallow\", \"Cupcake\", \"ipsum\", \"Cupcake\"]\n",
    "\n",
    "d = dict()\n",
    "for a in A:\n",
    "    if a not in d:\n",
    "        d[a] = 1\n",
    "    else:\n",
    "        d[a] += 1\n",
    "\n",
    "most_common = []\n",
    "for key in sorted(d, key=d.get, reverse=True)[:3]:\n",
    "    most_common.append((key, d[key]))\n",
    "    print(\"%s: %i\" % (key, d[key]))\n",
    "\n",
    "print(most_common)"
   ]
  },
  {
   "cell_type": "code",
   "execution_count": 13,
   "metadata": {},
   "outputs": [
    {
     "name": "stdout",
     "output_type": "stream",
     "text": [
      "['1111', '1110', '1101', '1100', '1011', '1010', '1001', '1000', '0111', '0110', '0101', '0100', '0011', '0010', '0001', '0000']\n"
     ]
    }
   ],
   "source": [
    "import itertools\n",
    "\n",
    "print(list(map(lambda x: \"\".join(map(str,x)), itertools.product([1,0], repeat=4))))"
   ]
  },
  {
   "cell_type": "code",
   "execution_count": 18,
   "metadata": {},
   "outputs": [
    {
     "name": "stdout",
     "output_type": "stream",
     "text": [
      "True\nTrue\n"
     ]
    }
   ],
   "source": [
    "my_list =[['Aaaaa', 'ooo'], ['weeeaa', 'pawe'], ['Legol', 'kaka'], ['Semigard', 'kaczka']]\n",
    "search = 'ooo'\n",
    "\n",
    "def is_present_at_second(l, s):\n",
    "    return any(map(lambda x: x[1] == s, l))\n",
    "\n",
    "found = False\n",
    "\n",
    "for i in range (0, len(my_list)):\n",
    "    if my_list[i][1]==search:\n",
    "        found = True\n",
    "\n",
    "print(found)\n",
    "print(is_present_at_second(my_list, search))"
   ]
  },
  {
   "cell_type": "code",
   "execution_count": null,
   "metadata": {},
   "outputs": [],
   "source": []
  }
 ],
 "metadata": {
  "kernelspec": {
   "display_name": "Python 2",
   "language": "python",
   "name": "python2"
  },
  "language_info": {
   "codemirror_mode": {
    "name": "ipython",
    "version": 2
   },
   "file_extension": ".py",
   "mimetype": "text/x-python",
   "name": "python",
   "nbconvert_exporter": "python",
   "pygments_lexer": "ipython2",
   "version": "2.7.6"
  }
 },
 "nbformat": 4,
 "nbformat_minor": 0
}
