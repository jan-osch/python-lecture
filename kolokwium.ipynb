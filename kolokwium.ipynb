{
 "cells": [
  {
   "cell_type": "code",
   "execution_count": 1,
   "metadata": {
    "collapsed": true
   },
   "outputs": [
    {
     "name": "stdout",
     "output_type": "stream",
     "text": [
      "it works\n"
     ]
    }
   ],
   "source": [
    "print(\"it works\")"
   ]
  },
  {
   "cell_type": "code",
   "execution_count": 52,
   "metadata": {},
   "outputs": [],
   "source": [
    "from time import time\n",
    "\n",
    "def timeit(func):\n",
    "    def function(*args,**kwargs):\n",
    "        start = time()\n",
    "        result = func(*args, **kwargs)\n",
    "        print('Function %s took: %s seconds'% (func.__name__, format(time() - start)))\n",
    "        return result\n",
    "    return function"
   ]
  },
  {
   "cell_type": "code",
   "execution_count": 6,
   "metadata": {},
   "outputs": [
    {
     "name": "stdout",
     "output_type": "stream",
     "text": [
      "[1, 1] [1, 1]\n"
     ]
    }
   ],
   "source": [
    "def f(a=[]):\n",
    "    a.append(1)\n",
    "    return a"
   ]
  },
  {
   "cell_type": "code",
   "execution_count": 54,
   "metadata": {},
   "outputs": [],
   "source": [
    "@timeit\n",
    "def var_old(vals):\n",
    "    \"\"\"Zwraca wariancje liczb\"\"\"\n",
    "    return sum((x - sum(vals)) ** 2 / len(vals) for x in vals) / len(vals)"
   ]
  },
  {
   "cell_type": "code",
   "execution_count": 57,
   "metadata": {},
   "outputs": [
    {
     "name": "stdout",
     "output_type": "stream",
     "text": [
      "Function var took: 8.106231689453125e-06 seconds\nFunction var_old took: 1.0967254638671875e-05 seconds\nTrue\nFunction var took: 8.106231689453125e-06 seconds\nFunction var_old took: 7.152557373046875e-06 seconds\nTrue\nFunction var took: 0.0009360313415527344 seconds\nFunction var_old took: 0.01271200180053711 seconds\nFalse\n"
     ]
    }
   ],
   "source": [
    "@timeit\n",
    "def var(vals):\n",
    "    \"\"\"Zwraca wariancje liczb\"\"\"\n",
    "    mean = sum(vals)\n",
    "    return sum((x - mean) ** 2 for x in vals) / len(vals) ** 2\n",
    "\n",
    "print(var([1, 2]) == var_old([1, 2]))\n",
    "print(var([4, 9]) == var_old([4, 9]))\n",
    "array = list(range(999))\n",
    "print(var(array) == var_old(array))"
   ]
  },
  {
   "cell_type": "code",
   "execution_count": 65,
   "metadata": {},
   "outputs": [
    {
     "name": "stdout",
     "output_type": "stream",
     "text": [
      "(0, 1, 6)\n(1, 2, 7)\n(2, 3, 7)\n"
     ]
    },
    {
     "ename": "StopIteration",
     "evalue": "",
     "traceback": [
      "\u001b[0;31m---------------------------------------------------------------------------\u001b[0m",
      "\u001b[0;31mStopIteration\u001b[0m                             Traceback (most recent call last)",
      "\u001b[0;32m<ipython-input-65-f826c4843128>\u001b[0m in \u001b[0;36m<module>\u001b[0;34m()\u001b[0m\n\u001b[1;32m      6\u001b[0m \u001b[0mprint\u001b[0m\u001b[0;34m(\u001b[0m\u001b[0mnext\u001b[0m\u001b[0;34m(\u001b[0m\u001b[0mt\u001b[0m\u001b[0;34m)\u001b[0m\u001b[0;34m)\u001b[0m  \u001b[0;31m# => (1,2,7)\u001b[0m\u001b[0;34m\u001b[0m\u001b[0m\n\u001b[1;32m      7\u001b[0m \u001b[0mprint\u001b[0m\u001b[0;34m(\u001b[0m\u001b[0mnext\u001b[0m\u001b[0;34m(\u001b[0m\u001b[0mt\u001b[0m\u001b[0;34m)\u001b[0m\u001b[0;34m)\u001b[0m  \u001b[0;31m# => (1,2,7)\u001b[0m\u001b[0;34m\u001b[0m\u001b[0m\n\u001b[0;32m----> 8\u001b[0;31m \u001b[0mprint\u001b[0m\u001b[0;34m(\u001b[0m\u001b[0mnext\u001b[0m\u001b[0;34m(\u001b[0m\u001b[0mt\u001b[0m\u001b[0;34m)\u001b[0m\u001b[0;34m)\u001b[0m  \u001b[0;31m# => (1,2,7)\u001b[0m\u001b[0;34m\u001b[0m\u001b[0m\n\u001b[0m",
      "\u001b[0;31mStopIteration\u001b[0m: "
     ],
     "output_type": "error"
    }
   ],
   "source": [
    "def no_doublet(v1, v2):\n",
    "    return zip(range(max(len(v1), len(v2))), v1, v2)\n",
    "\n",
    "t = no_doublet([1, 2, 3, 4], [6, 7, 7])\n",
    "print(next(t))  # => (0,1,6)\n",
    "print(next(t))  # => (1,2,7)\n",
    "print(next(t))  # => (1,2,7)\n",
    "print(next(t))  # => (1,2,7)"
   ]
  },
  {
   "cell_type": "code",
   "execution_count": 108,
   "metadata": {},
   "outputs": [
    {
     "name": "stdout",
     "output_type": "stream",
     "text": [
      "Function test took: 0.0019979476928710938 seconds\nFunction test_old took: 0.005427837371826172 seconds\nTrue\n[0, 1, 4, 9, 16, 25, 36, 49, 64, 81, 100, 121, 144, 169, 196, 225, 256, 289, 324, 361, 400, 441, 484, 529, 576, 625, 676, 729, 784, 841, 900, 961, 1024, 1089, 1156, 1225, 1296, 1369, 1444, 1521, 1600, 1681, 1764, 1849, 1936, 2025, 2116, 2209, 2304, 2401, 2500, 2601, 2704, 2809, 2916, 3025, 3136, 3249, 3364, 3481, 3600, 3721, 3844, 3969, 4096, 4225, 4356, 4489, 4624, 4761, 4900, 5041, 5184, 5329, 5476, 5625, 5776, 5929, 6084, 6241, 6400, 6561, 6724, 6889, 7056, 7225, 7396, 7569, 7744, 7921, 8100, 8281, 8464, 8649, 8836, 9025, 9216, 9409, 9604, 9801]\n"
     ]
    }
   ],
   "source": [
    "def square(number):\n",
    "    return number ** 2\n",
    "\n",
    "@timeit\n",
    "def test_old():\n",
    "    return [square(i) for i in range(10000)]\n",
    "\n",
    "@timeit\n",
    "def test():\n",
    "    return [x for x in map(lambda x: x * x, range(10000))]\n",
    "\n",
    "print(test() == test_old())\n",
    "squares = list(map(lambda x: x * x, range(100)))\n",
    "print(squares)"
   ]
  },
  {
   "cell_type": "code",
   "execution_count": 114,
   "metadata": {},
   "outputs": [
    {
     "name": "stdout",
     "output_type": "stream",
     "text": [
      "True\n[('B', 'C', 'D')]\n"
     ]
    }
   ],
   "source": [
    "import itertools\n",
    "    \n",
    "def foo(iterable, n):\n",
    "    return filter(lambda x: iterable[0] not in x and iterable[-1] not in x, itertools.combinations(iterable, n))\n",
    "\n",
    "print(list(foo('ABCDE', 3)) == [('B', 'C', 'D')])\n",
    "print(list(foo('ABCDE', 3)))"
   ]
  },
  {
   "cell_type": "code",
   "execution_count": 115,
   "metadata": {},
   "outputs": [
    {
     "data": {
      "text/plain": [
       "3"
      ]
     },
     "execution_count": 115,
     "metadata": {},
     "output_type": "execute_result"
    }
   ],
   "source": [
    "[1,2,3][-1]"
   ]
  },
  {
   "cell_type": "code",
   "execution_count": 120,
   "metadata": {},
   "outputs": [
    {
     "name": "stdout",
     "output_type": "stream",
     "text": [
      "Function count_words took: 0.0023190975189208984 seconds\nFunction count_words_faster took: 0.00017309188842773438 seconds\n"
     ]
    }
   ],
   "source": [
    "@timeit\n",
    "def count_words(text):\n",
    "    return {k: text.split().count(k) for k in set(text.split())}\n",
    "\n",
    "@timeit\n",
    "def count_words_faster(text):\n",
    "    result = {}\n",
    "    for word in text.split():\n",
    "        result[word] = result.get(word, 0) + 1\n",
    "    return result\n",
    "\n",
    "s = \"\"\" \n",
    "Lorem ipsum dolor sit amet consectetur adipiscing elit Duis vel dapibus nisi Vivamus hendrerit massa eu suscipit consequat lacus quam dictum felis id cursus eros lorem vitae augue Nam placerat dapibus malesuada Vestibulum gravida sed eros ut rutrum Quisque nisi tellus posuere vitae ante eu venenatis consectetur magna Ut malesuada diam et nisi convallis a cursus risus vestibulum Aenean est lorem tincidunt ac hendrerit quis ornare eu ex Duis vel tincidunt libero Morbi ac congue libero Donec vel tincidunt orci Nulla egestas feugiat enim sed vehicula Sed eu accumsan tortor convallis egestas justo Ut egestas bibendum aliquam Phasellus laoreet scelerisque neque sed pulvinar Aenean consectetur justo ut semper maximus nulla magna ultrices metus vel scelerisque lacus augue a quam Cras non dignissim turpis id placerat elit Lorem ipsum dolor sit amet consectetur adipiscing elit Duis vel dapibus nisi Vivamus hendrerit massa eu suscipit consequat lacus quam dictum felis id cursus eros lorem vitae augue Nam placerat dapibus malesuada Vestibulum gravida sed eros ut rutrum Quisque nisi tellus posuere vitae ante eu venenatis consectetur magna Ut malesuada diam et nisi convallis a cursus risus vestibulum Aenean est lorem tincidunt ac hendrerit quis ornare eu ex Duis vel tincidunt libero Morbi ac congue libero Donec vel tincidunt orci Nulla egestas feugiat enim sed vehicula Sed eu accumsan tortor convallis egestas justo Ut egestas bibendum aliquam Phasellus laoreet scelerisque neque sed pulvinar Aenean consectetur justo ut semper maximus nulla magna ultrices metus vel scelerisque lacus augue a quam Cras non dignissim turpis id placerat elit\n",
    "o qwdijqio wdjqwjdoqj wod jqowjdoiqwjdoqjwdjqowjdoqjwdoijqwoidjq owdqwodjqowidj oqwjdq jwodi jqwoidjqoiwjdoiqjwiodjqwoidjiqowjdoqi jw\n",
    "\"\"\"\n",
    "\n",
    "assert count_words(s) == count_words_faster(s)"
   ]
  },
  {
   "cell_type": "code",
   "execution_count": 131,
   "metadata": {},
   "outputs": [
    {
     "name": "stdout",
     "output_type": "stream",
     "text": [
      "[1, 1, 3, 4]\n"
     ]
    }
   ],
   "source": [
    "def lists_diff(list1, list2):\n",
    "    \"\"\" \n",
    "    Z dwóch list zwróci elementy z pierwszej nie znajdujące się w drugiej\n",
    "    i elementy z drugiej nie znajdujące się w pierwszej. Powtórki powinny zostać zachowane.\n",
    "    \"\"\"\n",
    "    return [x for x in list1 if x not in list2] + [x for x in list2 if x not in list1]\n",
    "\n",
    "assert lists_diff([1,1,2], [3,4,2]) == [1,1,3,4]\n",
    "\n",
    "print(lists_diff([1,1,2], [3,4,2]))"
   ]
  },
  {
   "cell_type": "code",
   "execution_count": 128,
   "metadata": {},
   "outputs": [
    {
     "name": "stdout",
     "output_type": "stream",
     "text": [
      "None\n"
     ]
    }
   ],
   "source": [
    "print([1,2,3].extend([1,2,3]))"
   ]
  },
  {
   "cell_type": "code",
   "execution_count": 132,
   "metadata": {},
   "outputs": [
    {
     "name": "stdout",
     "output_type": "stream",
     "text": [
      "True\nTrue\n"
     ]
    }
   ],
   "source": [
    "def select(iterable, selected):\n",
    "    for (elem, flag) in zip(iterable, selected):\n",
    "        if flag:\n",
    "            yield elem\n",
    "\n",
    "letters = 'ABCDEFGHIJ'\n",
    "selected = [True, False, True, False, True, True]\n",
    "\n",
    "g = select(letters, selected)\n",
    "\n",
    "print(next(g) == 'A')  # => A\n",
    "print(next(g) == 'C')  # => C"
   ]
  },
  {
   "cell_type": "code",
   "execution_count": null,
   "metadata": {},
   "outputs": [],
   "source": [
    ""
   ]
  },
  {
   "cell_type": "code",
   "execution_count": 139,
   "metadata": {},
   "outputs": [
    {
     "name": "stdout",
     "output_type": "stream",
     "text": [
      "<body>Hello World</body>\n"
     ]
    }
   ],
   "source": [
    "def tag(tag):\n",
    "    def container(func):\n",
    "        def decorator(*args, **kwargs):\n",
    "            result = func(*args, **kwargs)\n",
    "            if type(result) != str:\n",
    "                raise TypeError\n",
    "            return '<{}>{}</{}>'.format(tag, result, tag)\n",
    "        return decorator\n",
    "    return container\n",
    "        \n",
    "\n",
    "@tag('p')\n",
    "def foo(x):\n",
    "    return x\n",
    "\n",
    "assert foo(\"Hello World\") == \"<p>Hello World</p>\"\n",
    "\n",
    "@tag('body')\n",
    "def foo2(x):\n",
    "    return x\n",
    "\n",
    "assert foo2(\"Hello World\") == \"<body>Hello World</body>\"\n",
    "print(foo2(\"Hello World\"))\n",
    "\n",
    "@tag('z')\n",
    "def foo3(x):\n",
    "    return x \n",
    "\n",
    "try:\n",
    "    foo(['test'])\n",
    "except TypeError:\n",
    "    pass\n",
    "else:\n",
    "    raise AssertionError(\"Blad!\")"
   ]
  },
  {
   "cell_type": "code",
   "execution_count": 140,
   "metadata": {},
   "outputs": [
    {
     "name": "stdout",
     "output_type": "stream",
     "text": [
      "--- 1.0051839351654053 seconds ---\n"
     ]
    },
    {
     "name": "stdout",
     "output_type": "stream",
     "text": [
      "--- 1.0040040016174316 seconds ---\n"
     ]
    },
    {
     "name": "stdout",
     "output_type": "stream",
     "text": [
      "--- 1.0050029754638672 seconds ---\n"
     ]
    },
    {
     "name": "stdout",
     "output_type": "stream",
     "text": [
      "--- 1.0035009384155273 seconds ---\n"
     ]
    },
    {
     "name": "stdout",
     "output_type": "stream",
     "text": [
      "--- 1.0030360221862793 seconds ---\n"
     ]
    },
    {
     "ename": "TypeError",
     "evalue": "foo() takes 0 positional arguments but 1 was given",
     "traceback": [
      "\u001b[0;31m---------------------------------------------------------------------------\u001b[0m",
      "\u001b[0;31mTypeError\u001b[0m                                 Traceback (most recent call last)",
      "\u001b[0;32m<ipython-input-140-4349314dc66c>\u001b[0m in \u001b[0;36m<module>\u001b[0;34m()\u001b[0m\n\u001b[1;32m     22\u001b[0m \u001b[0;32mfor\u001b[0m \u001b[0mi\u001b[0m \u001b[0;32min\u001b[0m \u001b[0mrange\u001b[0m\u001b[0;34m(\u001b[0m\u001b[0;36m5\u001b[0m\u001b[0;34m)\u001b[0m\u001b[0;34m:\u001b[0m\u001b[0;34m\u001b[0m\u001b[0m\n\u001b[1;32m     23\u001b[0m     \u001b[0mstart_time\u001b[0m \u001b[0;34m=\u001b[0m \u001b[0mtime\u001b[0m\u001b[0;34m.\u001b[0m\u001b[0mtime\u001b[0m\u001b[0;34m(\u001b[0m\u001b[0;34m)\u001b[0m\u001b[0;34m\u001b[0m\u001b[0m\n\u001b[0;32m---> 24\u001b[0;31m     \u001b[0;32massert\u001b[0m \u001b[0mi\u001b[0m \u001b[0;34m==\u001b[0m \u001b[0mfoo\u001b[0m\u001b[0;34m(\u001b[0m\u001b[0mi\u001b[0m\u001b[0;34m)\u001b[0m\u001b[0;34m\u001b[0m\u001b[0m\n\u001b[0m\u001b[1;32m     25\u001b[0m     \u001b[0mprint\u001b[0m\u001b[0;34m(\u001b[0m\u001b[0;34m\"--- %s seconds ---\"\u001b[0m \u001b[0;34m%\u001b[0m \u001b[0;34m(\u001b[0m\u001b[0mtime\u001b[0m\u001b[0;34m.\u001b[0m\u001b[0mtime\u001b[0m\u001b[0;34m(\u001b[0m\u001b[0;34m)\u001b[0m \u001b[0;34m-\u001b[0m \u001b[0mstart_time\u001b[0m\u001b[0;34m)\u001b[0m\u001b[0;34m)\u001b[0m\u001b[0;34m\u001b[0m\u001b[0m\n",
      "\u001b[0;32m<ipython-input-140-4349314dc66c>\u001b[0m in \u001b[0;36mdecorator\u001b[0;34m(*args, **kwargs)\u001b[0m\n\u001b[1;32m      4\u001b[0m     \u001b[0;32mdef\u001b[0m \u001b[0mdecorator\u001b[0m\u001b[0;34m(\u001b[0m\u001b[0;34m*\u001b[0m\u001b[0margs\u001b[0m\u001b[0;34m,\u001b[0m \u001b[0;34m**\u001b[0m\u001b[0mkwargs\u001b[0m\u001b[0;34m)\u001b[0m\u001b[0;34m:\u001b[0m\u001b[0;34m\u001b[0m\u001b[0m\n\u001b[1;32m      5\u001b[0m         \u001b[0mtime\u001b[0m\u001b[0;34m.\u001b[0m\u001b[0msleep\u001b[0m\u001b[0;34m(\u001b[0m\u001b[0;36m1\u001b[0m\u001b[0;34m)\u001b[0m\u001b[0;34m\u001b[0m\u001b[0m\n\u001b[0;32m----> 6\u001b[0;31m         \u001b[0;32mreturn\u001b[0m \u001b[0mfunc\u001b[0m\u001b[0;34m(\u001b[0m\u001b[0;34m*\u001b[0m\u001b[0margs\u001b[0m\u001b[0;34m,\u001b[0m \u001b[0;34m**\u001b[0m\u001b[0mkwargs\u001b[0m\u001b[0;34m)\u001b[0m\u001b[0;34m\u001b[0m\u001b[0m\n\u001b[0m\u001b[1;32m      7\u001b[0m     \u001b[0;32mreturn\u001b[0m \u001b[0mdecorator\u001b[0m\u001b[0;34m\u001b[0m\u001b[0m\n\u001b[1;32m      8\u001b[0m \u001b[0;34m\u001b[0m\u001b[0m\n",
      "\u001b[0;31mTypeError\u001b[0m: foo() takes 0 positional arguments but 1 was given"
     ],
     "output_type": "error"
    }
   ],
   "source": [
    "import time\n",
    "\n",
    "def wait(func):\n",
    "    def decorator(*args, **kwargs):\n",
    "        time.sleep(1)\n",
    "        return func(*args, **kwargs)\n",
    "    return decorator\n",
    "\n",
    "@wait\n",
    "def foo():\n",
    "    pass\n",
    "\n",
    "for _ in range(5):\n",
    "    start_time = time.time()\n",
    "    foo()\n",
    "    print(\"--- %s seconds ---\" % (time.time() - start_time))\n",
    "\n",
    "@wait\n",
    "def foo2(i):\n",
    "    return i\n",
    "\n",
    "for i in range(5):\n",
    "    start_time = time.time()\n",
    "    assert i == foo(i)\n",
    "    print(\"--- %s seconds ---\" % (time.time() - start_time))"
   ]
  },
  {
   "cell_type": "code",
   "execution_count": 144,
   "metadata": {},
   "outputs": [
    {
     "name": "stdout",
     "output_type": "stream",
     "text": [
      "{1: 'a', 2: 'b'}\n"
     ]
    }
   ],
   "source": [
    "def reverse_dict(d):\n",
    "    \"\"\" Dla podanego słownika zwróć słownik z odwróconą relacją klucz->wartość. \"\"\"\n",
    "    return {value: key for (key, value) in d.items()}\n",
    "\n",
    "print(reverse_dict({'a':1, 'b':2}))"
   ]
  },
  {
   "cell_type": "code",
   "execution_count": 150,
   "metadata": {},
   "outputs": [
    {
     "ename": "UnboundLocalError",
     "evalue": "local variable 'done' referenced before assignment",
     "traceback": [
      "\u001b[0;31m---------------------------------------------------------------------------\u001b[0m",
      "\u001b[0;31mUnboundLocalError\u001b[0m                         Traceback (most recent call last)",
      "\u001b[0;32m<ipython-input-150-a14e512fb265>\u001b[0m in \u001b[0;36m<module>\u001b[0;34m()\u001b[0m\n\u001b[1;32m     13\u001b[0m     \u001b[0mprint\u001b[0m\u001b[0;34m(\u001b[0m\u001b[0;34m\"Funkcja została wywołana\"\u001b[0m\u001b[0;34m)\u001b[0m\u001b[0;34m\u001b[0m\u001b[0m\n\u001b[1;32m     14\u001b[0m \u001b[0;34m\u001b[0m\u001b[0m\n\u001b[0;32m---> 15\u001b[0;31m \u001b[0mfoo\u001b[0m\u001b[0;34m(\u001b[0m\u001b[0;36m12\u001b[0m\u001b[0;34m)\u001b[0m  \u001b[0;31m# zostanie wypisany tekst\u001b[0m\u001b[0;34m\u001b[0m\u001b[0m\n\u001b[0m\u001b[1;32m     16\u001b[0m \u001b[0mfoo\u001b[0m\u001b[0;34m(\u001b[0m\u001b[0;36m8\u001b[0m\u001b[0;34m)\u001b[0m  \u001b[0;31m# nic się nie stanie\u001b[0m\u001b[0;34m\u001b[0m\u001b[0m\n",
      "\u001b[0;32m<ipython-input-150-a14e512fb265>\u001b[0m in \u001b[0;36mdecorator\u001b[0;34m(*args, **kwargs)\u001b[0m\n\u001b[1;32m      1\u001b[0m \u001b[0;32mdef\u001b[0m \u001b[0msingle_runner\u001b[0m\u001b[0;34m(\u001b[0m\u001b[0mfunc\u001b[0m\u001b[0;34m,\u001b[0m \u001b[0mdone\u001b[0m\u001b[0;34m=\u001b[0m\u001b[0;32mFalse\u001b[0m\u001b[0;34m)\u001b[0m\u001b[0;34m:\u001b[0m\u001b[0;34m\u001b[0m\u001b[0m\n\u001b[1;32m      2\u001b[0m     \u001b[0;32mdef\u001b[0m \u001b[0mdecorator\u001b[0m\u001b[0;34m(\u001b[0m\u001b[0;34m*\u001b[0m\u001b[0margs\u001b[0m\u001b[0;34m,\u001b[0m \u001b[0;34m**\u001b[0m\u001b[0mkwargs\u001b[0m\u001b[0;34m)\u001b[0m\u001b[0;34m:\u001b[0m\u001b[0;34m\u001b[0m\u001b[0m\n\u001b[0;32m----> 3\u001b[0;31m         \u001b[0;32mif\u001b[0m \u001b[0;32mnot\u001b[0m \u001b[0mdone\u001b[0m\u001b[0;34m:\u001b[0m\u001b[0;34m\u001b[0m\u001b[0m\n\u001b[0m\u001b[1;32m      4\u001b[0m             \u001b[0mresult\u001b[0m \u001b[0;34m=\u001b[0m \u001b[0mfunc\u001b[0m\u001b[0;34m(\u001b[0m\u001b[0;34m*\u001b[0m\u001b[0margs\u001b[0m\u001b[0;34m,\u001b[0m \u001b[0;34m**\u001b[0m\u001b[0mkwargs\u001b[0m\u001b[0;34m)\u001b[0m\u001b[0;34m\u001b[0m\u001b[0m\n\u001b[1;32m      5\u001b[0m             \u001b[0mdone\u001b[0m \u001b[0;34m=\u001b[0m \u001b[0;32mTrue\u001b[0m\u001b[0;34m\u001b[0m\u001b[0m\n",
      "\u001b[0;31mUnboundLocalError\u001b[0m: local variable 'done' referenced before assignment"
     ],
     "output_type": "error"
    }
   ],
   "source": [
    "def single_runner(func):\n",
    "    done = False\n",
    "    \n",
    "    def decorator(*args, **kwargs):\n",
    "        if not done:\n",
    "            result = func(*args, **kwargs)\n",
    "            done = True\n",
    "            return result\n",
    "\n",
    "    return decorator\n",
    "\n",
    "\n",
    "@single_runner\n",
    "def foo(x):\n",
    "    print(\"Funkcja została wywołana\")\n",
    "\n",
    "foo(12)  # zostanie wypisany tekst\n",
    "foo(8)  # nic się nie stanie"
   ]
  },
  {
   "cell_type": "code",
   "execution_count": null,
   "metadata": {},
   "outputs": [],
   "source": [
    "def my_zip(*args)\n",
    "    return [(x)]"
   ]
  }
 ],
 "metadata": {
  "kernelspec": {
   "display_name": "Python 2",
   "language": "python",
   "name": "python2"
  },
  "language_info": {
   "codemirror_mode": {
    "name": "ipython",
    "version": 2
   },
   "file_extension": ".py",
   "mimetype": "text/x-python",
   "name": "python",
   "nbconvert_exporter": "python",
   "pygments_lexer": "ipython2",
   "version": "2.7.6"
  }
 },
 "nbformat": 4,
 "nbformat_minor": 0
}
