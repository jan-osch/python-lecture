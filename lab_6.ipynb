{
 "cells": [
  {
   "cell_type": "markdown",
   "metadata": {
    "collapsed": true
   },
   "source": [
    "# Laboratorium 6\n",
    "### Collections\n",
    "Uzupełnij poniższe funckje korzystając z zaimporotwanych klas"
   ]
  },
  {
   "cell_type": "code",
   "execution_count": null,
   "metadata": {
    "collapsed": false
   },
   "outputs": [],
   "source": [
    "from collections import defaultdict\n",
    "\n",
    "def count_letters(word):\n",
    "    \"\"\" Zwraca slownik gdzie kluczami sa litery, a wartosci ilosc ich wystepowania \"\"\"\n",
    "    pass\n",
    "\n",
    "\n",
    "print(count_letters('aaaaa') == {'a': 5})\n",
    "print(count_letters('abbccaaaa') == {'a': 5, 'b': 2, 'c': 2})\n",
    "print(count_letters('abc') == {'a': 1, 'b': 1, 'c': 1})"
   ]
  },
  {
   "cell_type": "code",
   "execution_count": null,
   "metadata": {
    "collapsed": false
   },
   "outputs": [],
   "source": [
    "def group_words_by_first_letter(text):\n",
    "    \"\"\" Dzieli tekst po spacjach i zwraca slownik gdzie kluczami sa pierwsze litery, a wartosciami listy slow zaczynajacych sie na te litery\"\"\"\n",
    "    pass\n",
    "\n",
    "print(group_words_by_first_letter(\"ala ma kota\") == {'a': ['ala'], 'm': ['ma'], 'k': ['kota']})\n",
    "print(group_words_by_first_letter(\"ala ma kota ala ma psa\") == {'a': ['ala', 'ala'], 'm': ['ma', 'ma'], 'k': ['kota'], 'p': ['psa']})   \n",
    "print(group_words_by_first_letter(\"ala ma kota ale marysia ma konia\") == {'a': ['ala', 'ale'], 'm': ['ma', 'marysia', 'ma'], 'k': ['kota', 'konia']})"
   ]
  },
  {
   "cell_type": "markdown",
   "metadata": {},
   "source": [
    "### Regexy\n",
    "Przejdź 15 zadań ze strony http://regexone.com/"
   ]
  },
  {
   "cell_type": "markdown",
   "metadata": {},
   "source": [
    "#### Atoms\n",
    "Napisz program, który (używając wyrażeń regularnych) przefiltruje plik atoms.log tak by pozostały jedynie linie dot. bezproblemowego przebiegu eksperymentu.\n",
    "czyli np. powinny zostać odrzucone takie linie jak\n",
    "```\n",
    "RUN 000039 COMPLETED. OUTPUT IN FILE yttrium.dat. 1 UNDERFLOW WARNING.\n",
    "```\n",
    "czy\n",
    "```\n",
    "RUN 000058 COMPLETED. OUTPUT IN FILE cerium.dat. ALGORITHM DID NOT CONVERGE AFTER 100000 ITERATIONS.\n",
    "```\n",
    "można jedynie założyć, że każda linijka pasuje do poniższego schematu\n",
    "```\n",
    "RUN [[NUMER Z DOKŁADNIE 6 CYFR]] COMPLETED. OUTPUT IN FILE [[NAZWA]].dat. [[COKOLWIEK]]\n",
    "```"
   ]
  },
  {
   "cell_type": "code",
   "execution_count": null,
   "metadata": {
    "collapsed": true
   },
   "outputs": [],
   "source": [
    "import re\n",
    "\n",
    "pattern = ...\n",
    "\n",
    "with open('atoms.log') as atoms:\n",
    "    for line in atoms:\n",
    "        if ...:\n",
    "            print(line)"
   ]
  },
  {
   "cell_type": "markdown",
   "metadata": {},
   "source": [
    "#### Messages\n",
    "Napisz program który wypisze linie z logu systemowego \"messages.txt\" które zawierają informacje o nieprawidłowej nazwie użytkownika (invalid user)"
   ]
  },
  {
   "cell_type": "code",
   "execution_count": null,
   "metadata": {
    "collapsed": true
   },
   "outputs": [],
   "source": [
    "pattern = ...\n",
    "\n",
    "with open('messages.txt') as messages:\n",
    "    for line in messages:\n",
    "        if ...:\n",
    "            print(line)"
   ]
  },
  {
   "cell_type": "markdown",
   "metadata": {},
   "source": [
    "Przerób program tak, żeby wyświetlał sformatowane komunikaty, tzn.\n",
    "```\n",
    "Jun 29 20:18:40 noether sshd[5805]: Invalid user tester from 218.189.194.200\n",
    "```\n",
    "powinno zostać przerobione na\n",
    "```\n",
    "Niepoprawna nazwa użytkownika: \"tester\", połaczenie z 218.189.194.200 nawiązano 29 czerwca o godz. 20:18\n",
    "```"
   ]
  },
  {
   "cell_type": "code",
   "execution_count": null,
   "metadata": {
    "collapsed": true
   },
   "outputs": [],
   "source": []
  },
  {
   "cell_type": "markdown",
   "metadata": {},
   "source": [
    "#### Hamlet\n",
    "Skopiuj implementację BagOfWords z poprzednich ćwiczeń. Przerób ją tak, żeby interpunkcja, cyfry i wszelkie inne znaki nie przeszkadzały w parsowaniu tekstu. Uruchom ja na [tekście hamleta](http://www.gutenberg.org/cache/epub/1787/pg1787.txt). Ile razy występuje słowo hamlet? Jak brzmi 10 najczęściej występujących słów?"
   ]
  },
  {
   "cell_type": "code",
   "execution_count": null,
   "metadata": {
    "collapsed": true
   },
   "outputs": [],
   "source": []
  }
 ],
 "metadata": {
  "kernelspec": {
   "display_name": "Python [default]",
   "language": "python",
   "name": "python2"
  },
  "language_info": {
   "codemirror_mode": {
    "name": "ipython",
    "version": 2
   },
   "file_extension": ".py",
   "mimetype": "text/x-python",
   "name": "python",
   "nbconvert_exporter": "python",
   "pygments_lexer": "ipython2",
   "version": "2.7.12"
  }
 },
 "nbformat": 4,
 "nbformat_minor": 0
}
