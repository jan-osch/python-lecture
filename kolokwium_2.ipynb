{
 "cells": [
  {
   "cell_type": "code",
   "execution_count": 20,
   "metadata": {
    "collapsed": true
   },
   "outputs": [
    {
     "name": "stdout",
     "output_type": "stream",
     "text": [
      "True\n"
     ]
    }
   ],
   "source": [
    "import re\n",
    "\n",
    "text = \"\"\"send it to me@gmail.com. Be careful not to write me@gmeil.com cause that won't work. Yours is you@gmail.com, right?\n",
    "Yes, and Mark's is mark@onet.pl\"\"\"\n",
    "\n",
    "\n",
    "\n",
    "\n",
    "def get_mails(text):\n",
    "    pattern = re.compile('\\w+@(\\w+\\.\\w+)')\n",
    "    result = set()\n",
    "    for word in text.split(' '):\n",
    "        if pattern.match(word):\n",
    "            result.add( pattern.match(word).group(1))\n",
    "    return list(result)\n",
    "\n",
    "print(set(get_mails(text)) == set(['gmail.com', 'onet.pl', 'gmeil.com']) )"
   ]
  },
  {
   "cell_type": "code",
   "execution_count": 22,
   "metadata": {},
   "outputs": [
    {
     "name": "stdout",
     "output_type": "stream",
     "text": [
      "True\nTrue\n"
     ]
    }
   ],
   "source": [
    "\n",
    "def inter_dup(list1, list2):\n",
    "    # Order and repetition handling is not mentioned in problem description. \n",
    "    return list(set(list1) & set(list2))\n",
    "\n",
    "print(inter_dup([1, 2, 3], [1, 3, 4]) == [1, 3])\n",
    "print(inter_dup([0, 0, 2, 3], [1, 3, 3, 4]) == [3])\n"
   ]
  },
  {
   "cell_type": "code",
   "execution_count": 31,
   "metadata": {},
   "outputs": [
    {
     "name": "stdout",
     "output_type": "stream",
     "text": [
      "True\nTrue\nTrue\nTrue\nTrue\nTrue\n"
     ]
    }
   ],
   "source": [
    "def fib():\n",
    "    a, b = 0, 1\n",
    "    while True:\n",
    "        yield a\n",
    "        a, b = b, a + b\n",
    "\n",
    "        \n",
    "f = fib()\n",
    "print(next(f) == 0)\n",
    "print(next(f) == 1)\n",
    "print(next(f) == 1)\n",
    "print(next(f) == 2)\n",
    "print(next(f) == 3)\n",
    "print(next(f) == 5)\n"
   ]
  },
  {
   "cell_type": "code",
   "execution_count": 38,
   "metadata": {},
   "outputs": [
    {
     "name": "stdout",
     "output_type": "stream",
     "text": [
      "2.36 ms ± 99.1 µs per loop (mean ± std. dev. of 7 runs, 100 loops each)\n"
     ]
    },
    {
     "name": "stdout",
     "output_type": "stream",
     "text": [
      "33.1 µs ± 527 ns per loop (mean ± std. dev. of 7 runs, 10000 loops each)\n"
     ]
    }
   ],
   "source": [
    "from math import sin\n",
    "import numpy as np\n",
    "\n",
    "\n",
    "def loop(num):\n",
    "    result = 0\n",
    "    for i in range(num):\n",
    "        result += i * sin(num)\n",
    "    return result\n",
    "\n",
    "\n",
    "def better_loop(num):\n",
    "    return np.sum(np.arange(num) * sin(num))\n",
    "\n",
    "\n",
    "% timeit loop(10000)\n",
    "% timeit better_loop(10000)\n"
   ]
  },
  {
   "cell_type": "code",
   "execution_count": 45,
   "metadata": {},
   "outputs": [
    {
     "name": "stdout",
     "output_type": "stream",
     "text": [
      "True\nTrue\nTrue\n"
     ]
    }
   ],
   "source": [
    "from functools import reduce\n",
    "\n",
    "\n",
    "def sum_of_squares_positive(numbers):\n",
    "    \"\"\" Zwraca sumę kwadratów liczb dodatnich z listy numbers \"\"\"\n",
    "    return reduce(lambda x, y: x + y, map(lambda x: x ** 2, filter(lambda x: x > 0, numbers)), 0)\n",
    "\n",
    "\n",
    "print(sum_of_squares_positive([1, 2, 3, 4]) == 30)\n",
    "print(sum_of_squares_positive([1, -1, -2, -3]) == 1)\n",
    "print(sum_of_squares_positive([-51, -1, -2, -3]) == 0)\n"
   ]
  },
  {
   "cell_type": "code",
   "execution_count": 52,
   "metadata": {},
   "outputs": [
    {
     "name": "stdout",
     "output_type": "stream",
     "text": [
      "[ 1.98076647  2.86404918  2.9318618   1.97593121  1.98268024]\n"
     ]
    }
   ],
   "source": [
    "def normalize_rows(X):\n",
    "    return np.linalg.norm(X, axis=0)\n",
    "\n",
    "X = np.random.rand(100).reshape((20, 5))\n",
    "X_norm = normalize_rows(X)\n",
    "\n",
    "print(all((np.linalg.norm(X_norm, axis=1) - np.ones(20)) < 1e-8))\n"
   ]
  },
  {
   "cell_type": "code",
   "execution_count": 66,
   "metadata": {},
   "outputs": [
    {
     "name": "stdout",
     "output_type": "stream",
     "text": [
      "0.91\n0.91\n"
     ]
    }
   ],
   "source": [
    "def mark(val):\n",
    "    bo = [0.5, 0.61, 0.71, 0.81, 0.91]\n",
    "    for v in bo:\n",
    "        if val < v:\n",
    "            break\n",
    "    return v\n",
    "\n",
    "\n",
    "def better_mark(val): \n",
    "    bo = np.array([0.5, 0.61, 0.71, 0.81, 0.91])\n",
    "    result = np.argmin(bo>val)\n",
    "    if result:\n",
    "        return result\n",
    "    return bo[-1]\n",
    "\n",
    "test_value = 2\n",
    "\n",
    "print(mark(test_value))\n",
    "print(better_mark(test_value))\n",
    "\n",
    "# %timeit -n 1000000 mark(0.4)"
   ]
  },
  {
   "cell_type": "code",
   "execution_count": 71,
   "metadata": {},
   "outputs": [
    {
     "name": "stdout",
     "output_type": "stream",
     "text": [
      "[False False]\n[False False]\n"
     ]
    }
   ],
   "source": [
    "import numpy as np\n",
    "\n",
    "\n",
    "def lsq(X, b):\n",
    "    id = X.shape[1]\n",
    "    return np.linalg.lstsq(X.T.dot(X) + 1 * id, X.T.dot(b))[0]\n",
    "\n",
    "X = np.array([[1, 2], [2, 3], [4, 4]])\n",
    "b = [1, 2, 3]\n",
    "print(np.isclose(lsq(X, b), [0.39393939, 0.36363636]))\n",
    "\n",
    "X = np.array([[1, -1], [0, 3], [4, 4]])\n",
    "b = [1, 2, 2]\n",
    "print(np.isclose(lsq(X, b), [0.1797235, 0.39631336]))\n"
   ]
  },
  {
   "cell_type": "code",
   "execution_count": 78,
   "metadata": {},
   "outputs": [
    {
     "name": "stdout",
     "output_type": "stream",
     "text": [
      "True\nTrue\nTrue\n"
     ]
    }
   ],
   "source": [
    "def sum_even_sq(x):\n",
    "    return sum([y ** 2 for y in x if y % 2 == 0])\n",
    "\n",
    "\n",
    "print(sum_even_sq([2, 5, 3, 8, 2]) == 72)\n",
    "print(sum_even_sq([1, 2, 3, 4, 5]) == 20)\n",
    "print(sum_even_sq([-2, -1, 0, 1, 2]) == 8)\n"
   ]
  },
  {
   "cell_type": "code",
   "execution_count": 82,
   "metadata": {},
   "outputs": [
    {
     "name": "stdout",
     "output_type": "stream",
     "text": [
      "True\nTrue\nTrue\nTrue\nTrue\n"
     ]
    }
   ],
   "source": [
    "def gen_5_7(n):\n",
    "    current = 0\n",
    "    while current <= n:\n",
    "        if current % 5 == 0 and current % 7 == 0:\n",
    "            yield current\n",
    "        current += 1\n",
    "\n",
    "\n",
    "print(list(gen_5_7(100)) == [0, 35, 70])\n",
    "g = gen_5_7(1000)\n",
    "print(next(g) == 0)\n",
    "print(next(g) == 35)\n",
    "print(next(g) == 70)\n",
    "print(next(g) == 105)\n"
   ]
  },
  {
   "cell_type": "code",
   "execution_count": 91,
   "metadata": {},
   "outputs": [
    {
     "name": "stdout",
     "output_type": "stream",
     "text": [
      "True\n"
     ]
    },
    {
     "name": "stdout",
     "output_type": "stream",
     "text": [
      "652 µs ± 37.9 µs per loop (mean ± std. dev. of 7 runs, 1000 loops each)\n"
     ]
    },
    {
     "name": "stdout",
     "output_type": "stream",
     "text": [
      "729 ns ± 4.59 ns per loop (mean ± std. dev. of 7 runs, 1000000 loops each)\n"
     ]
    }
   ],
   "source": [
    "import string\n",
    "\n",
    "\n",
    "def func():\n",
    "    s = string.ascii_letters * 100\n",
    "    slist = '[]'\n",
    "    for i in s:\n",
    "        slist = slist + i\n",
    "    return slist\n",
    "\n",
    "\n",
    "def better_func():\n",
    "    s = string.ascii_letters * 100\n",
    "    return '[]' + s\n",
    "\n",
    "\n",
    "print(func() == better_func())\n",
    "% timeit func()\n",
    "% timeit better_func()\n"
   ]
  },
  {
   "cell_type": "code",
   "execution_count": 99,
   "metadata": {},
   "outputs": [
    {
     "name": "stdout",
     "output_type": "stream",
     "text": [
      "True\nTrue\nTrue\nTrue\nTrue\n"
     ]
    }
   ],
   "source": [
    "import inspect\n",
    "\n",
    "\n",
    "def pol(c):\n",
    "    return list(inspect.getmro(c))\n",
    "\n",
    "class A1: pass\n",
    "class A2: pass\n",
    "class A3: pass\n",
    "class A4: pass\n",
    "class A5: pass\n",
    "class B1(A1, A2, A3): pass\n",
    "class B2(A4, A2, A5): pass\n",
    "class B3(A4, A1): pass\n",
    "class R(B1, B2, B3): pass\n",
    "\n",
    "\n",
    "print(pol(A1) == [A1, object])\n",
    "print(pol(B1) == [B1, A1, A2, A3, object])\n",
    "print(pol(B2) == [B2, A4, A2, A5, object])\n",
    "print(pol(B3) == [B3, A4, A1, object])\n",
    "print(pol(R) == [R, B1, B2, B3, A4, A1, A2, A3, A5, object])"
   ]
  },
  {
   "cell_type": "code",
   "execution_count": 112,
   "metadata": {},
   "outputs": [
    {
     "name": "stdout",
     "output_type": "stream",
     "text": [
      "True\nTrue\n"
     ]
    },
    {
     "name": "stdout",
     "output_type": "stream",
     "text": [
      "934 ms ± 27.7 ms per loop (mean ± std. dev. of 7 runs, 1 loop each)\n"
     ]
    },
    {
     "name": "stdout",
     "output_type": "stream",
     "text": [
      "9.39 ms ± 142 µs per loop (mean ± std. dev. of 7 runs, 100 loops each)\n"
     ]
    }
   ],
   "source": [
    "import numpy as np\n",
    "\n",
    "def m_sin(x):\n",
    "    r = np.zeros_like(x)\n",
    "    for i in range(len(x)):\n",
    "        r[i] = np.sin(x[i])\n",
    "    return r\n",
    "\n",
    "def better_m_sin(x):\n",
    "    return np.sin(x)\n",
    "\n",
    "\n",
    "x = np.linspace(0, 1, 1000000)\n",
    "y = np.random.rand(10000)\n",
    "\n",
    "print(np.all(m_sin(x) == better_m_sin(x)))\n",
    "print(np.all(m_sin(y) == better_m_sin(y)))\n",
    "\n",
    "%timeit m_sin(x)\n",
    "%timeit better_m_sin(x)\n"
   ]
  },
  {
   "cell_type": "code",
   "execution_count": 125,
   "metadata": {},
   "outputs": [
    {
     "data": {
      "image/png": "[encoded data removed]",
      "text/plain": [
       "<matplotlib.figure.Figure at 0x114352898>"
      ]
     },
     "metadata": {},
     "output_type": "display_data"
    }
   ],
   "source": [
    "import matplotlib.pyplot as plt\n",
    "% matplotlib inline\n",
    "\n",
    "\n",
    "size = 10000\n",
    "minus = np.random.normal(loc=-1, size=size, scale=1)\n",
    "plus = np.random.normal(loc=1, size=size, scale=1)\n",
    "\n",
    "plt.hist(minus, color='r', bins=10, alpha=0.5, edgecolor=\"none\")\n",
    "plt.hist(plus, color='b', bins=10, alpha=0.5, edgecolor=\"none\")\n",
    "\n",
    "plt.show()\n"
   ]
  },
  {
   "cell_type": "code",
   "execution_count": 131,
   "metadata": {},
   "outputs": [
    {
     "name": "stdout",
     "output_type": "stream",
     "text": [
      "True\nTrue\nTrue\nTrue\n"
     ]
    }
   ],
   "source": [
    "class Point:\n",
    "    def __init__(self, x, y):\n",
    "        self.x = x\n",
    "        self.y = y\n",
    "\n",
    "    def __repr__(self):\n",
    "        return '(x=%i, y=%i)' % (self.x, self.y)\n",
    "\n",
    "    def __add__(self, other):\n",
    "        return Point(self.x + other.x, self.y + other.y)\n",
    "\n",
    "    def __sub__(self, other):\n",
    "        return Point(self.x - other.x, self.y - other.y)\n",
    "\n",
    "    def __mul__(self, other):\n",
    "        return Point(self.x * other, self.y * other)\n",
    "\n",
    "    def __eq__(self, other):\n",
    "        return self.x == other.x and self.y == other.y\n",
    "\n",
    "\n",
    "a = Point(1, 1)\n",
    "b = Point(2, 2)\n",
    "\n",
    "print(a + b == Point(3, 3))\n",
    "print(a - b == Point(-1, -1))\n",
    "print(a * 2 == Point(2, 2))\n",
    "print(str(a) == '(x=1, y=1)')\n"
   ]
  },
  {
   "cell_type": "code",
   "execution_count": 147,
   "metadata": {},
   "outputs": [
    {
     "name": "stdout",
     "output_type": "stream",
     "text": [
      "True\nTrue\n"
     ]
    }
   ],
   "source": [
    "from math import sqrt\n",
    "\n",
    "\n",
    "def matrix(n):\n",
    "    square_root = int(sqrt(n))\n",
    "    if not square_root ** 2 == n:\n",
    "        raise ValueError\n",
    "\n",
    "    return np.arange(n).reshape((square_root, square_root))\n",
    "    \n",
    "\n",
    "print(np.array_equal(matrix(4), np.array([[0, 1], [2, 3]])))\n",
    "# matrix(5)  # rzuci wyjątek ValueError\n",
    "print(np.array_equal(matrix(16), np.array([[0, 1, 2, 3], [4, 5, 6, 7], [8, 9, 10, 11], [12, 13, 14, 15]])))\n"
   ]
  },
  {
   "cell_type": "code",
   "execution_count": 169,
   "metadata": {},
   "outputs": [
    {
     "data": {
      "image/png": "[encoded data removed]",
      "text/plain": [
       "<matplotlib.figure.Figure at 0x1142af0b8>"
      ]
     },
     "metadata": {},
     "output_type": "display_data"
    }
   ],
   "source": [
    "from numpy import exp, cos\n",
    "\n",
    "def g(y):\n",
    "    return exp(-y) * cos(5 * y)\n",
    "\n",
    "g = np.vectorize(g)\n",
    "\n",
    "def h(y):\n",
    "    return exp(-(3. / 4) * y) * cos(2 * y)\n",
    "h = np.vectorize(h)\n",
    "\n",
    "y = np.linspace(0, 10, 1001)\n",
    "\n",
    "plt.plot(g(y), label='g', color='red')\n",
    "plt.plot(h(y), label='h', color='black', linestyle='--')\n",
    "plt.xlabel('y')\n",
    "plt.ylabel('g(y)')\n",
    "plt.title('Damped sine wave')\n",
    "plt.legend()\n",
    "plt.show()\n"
   ]
  },
  {
   "cell_type": "code",
   "execution_count": 178,
   "metadata": {},
   "outputs": [
    {
     "name": "stdout",
     "output_type": "stream",
     "text": [
      "False\nFalse\nFalse\nFalse\n"
     ]
    }
   ],
   "source": [
    "import random\n",
    "random.seed(1)\n",
    "\n",
    "\n",
    "class V(list):\n",
    "    def __getitem__(self, item):\n",
    "        index = random.randint(0, item)\n",
    "        return super(V, self).__getitem__(index)\n",
    "\n",
    "\n",
    "v = V()\n",
    "v.extend([1,2,3])\n",
    "print(v[2] == 2)\n",
    "print(v[2] == 1)\n",
    "print(v[2] == 3)\n",
    "print(v[2] == 1)"
   ]
  },
  {
   "cell_type": "code",
   "execution_count": 189,
   "metadata": {},
   "outputs": [
    {
     "name": "stdout",
     "output_type": "stream",
     "text": [
      "True\nTrue\nTrue\n"
     ]
    }
   ],
   "source": [
    "def keys_longer_then(d, k=3):\n",
    "    \"\"\" Zwraca liste kluczy ze słownika d których wartość jest dłuższa niż paramter k, można \n",
    "        założyć, że zarówno klucze jak i wartość w słowniku są stringami \"\"\"\n",
    "    return list(map(lambda x: x[0], filter(lambda x: len(x[1]) > k, d.items())))\n",
    "\n",
    "d = {'ala': 'makota', 'jan': 'nowak', 'bruce': 'lee'}\n",
    "\n",
    "print(set(keys_longer_then(d)) == {'ala', 'jan'})\n",
    "print(keys_longer_then(d, k=5) == ['ala'])\n",
    "print(keys_longer_then(d, k=6) == [])\n"
   ]
  },
  {
   "cell_type": "code",
   "execution_count": 199,
   "metadata": {},
   "outputs": [
    {
     "name": "stdout",
     "output_type": "stream",
     "text": [
      "True\nTrue\nTrue\n"
     ]
    }
   ],
   "source": [
    "from itertools import product\n",
    "\n",
    "def power(x):\n",
    "    result = []\n",
    "    \n",
    "    \n",
    "    iterations = product([False, True], repeat=len(x))\n",
    "    for it in iterations:\n",
    "        partial = []\n",
    "        for (elem, take) in zip(x, reversed(it)):\n",
    "            if take:\n",
    "                partial.append(elem)\n",
    "        result.append(partial)\n",
    "    return result\n",
    "\n",
    "\n",
    "print(power('abc') == [[], ['a'], ['b'], ['a', 'b'], ['c'], ['a', 'c'], ['b', 'c'], ['a', 'b', 'c']])\n",
    "print(power([1, 2, 3]) == [[], [1], [2], [1, 2], [3], [1, 3], [2, 3], [1, 2, 3]])\n",
    "print(power(['abc', 5, 6]) == [[], ['abc'], [5], ['abc', 5], [6], ['abc', 6], [5, 6], ['abc', 5, 6]])\n"
   ]
  },
  {
   "cell_type": "code",
   "execution_count": 201,
   "metadata": {},
   "outputs": [],
   "source": [
    "import pandas as pd\n",
    "\n",
    "df = pd.read_csv('https://raw.githubusercontent.com/guipsamora/pandas_exercises/master/06_Stats/\\\n",
    "US_Baby_Names/US_Baby_Names_right.csv')\n",
    "\n"
   ]
  },
  {
   "cell_type": "code",
   "execution_count": 210,
   "metadata": {},
   "outputs": [
    {
     "data": {
      "text/html": [
       "<div>\n",
       "<style scoped>\n",
       "    .dataframe tbody tr th:only-of-type {\n",
       "        vertical-align: middle;\n",
       "    }\n",
       "\n",
       "    .dataframe tbody tr th {\n",
       "        vertical-align: top;\n",
       "    }\n",
       "\n",
       "    .dataframe thead th {\n",
       "        text-align: right;\n",
       "    }\n",
       "</style>\n",
       "<table border=\"1\" class=\"dataframe\">\n",
       "  <thead>\n",
       "    <tr style=\"text-align: right;\">\n",
       "      <th></th>\n",
       "      <th>Count</th>\n",
       "    </tr>\n",
       "    <tr>\n",
       "      <th>Name</th>\n",
       "      <th></th>\n",
       "    </tr>\n",
       "  </thead>\n",
       "  <tbody>\n",
       "    <tr>\n",
       "      <th>Jacob</th>\n",
       "      <td>242874</td>\n",
       "    </tr>\n",
       "    <tr>\n",
       "      <th>Emma</th>\n",
       "      <td>214852</td>\n",
       "    </tr>\n",
       "    <tr>\n",
       "      <th>Michael</th>\n",
       "      <td>214405</td>\n",
       "    </tr>\n",
       "    <tr>\n",
       "      <th>Ethan</th>\n",
       "      <td>209277</td>\n",
       "    </tr>\n",
       "    <tr>\n",
       "      <th>Isabella</th>\n",
       "      <td>204798</td>\n",
       "    </tr>\n",
       "    <tr>\n",
       "      <th>William</th>\n",
       "      <td>197894</td>\n",
       "    </tr>\n",
       "    <tr>\n",
       "      <th>Joshua</th>\n",
       "      <td>191551</td>\n",
       "    </tr>\n",
       "    <tr>\n",
       "      <th>Sophia</th>\n",
       "      <td>191446</td>\n",
       "    </tr>\n",
       "    <tr>\n",
       "      <th>Daniel</th>\n",
       "      <td>191440</td>\n",
       "    </tr>\n",
       "    <tr>\n",
       "      <th>Emily</th>\n",
       "      <td>190318</td>\n",
       "    </tr>\n",
       "  </tbody>\n",
       "</table>\n",
       "</div>"
      ],
      "text/plain": [
       "<div>\n",
       "<style scoped>\n",
       "    .dataframe tbody tr th:only-of-type {\n",
       "        vertical-align: middle;\n",
       "    }\n",
       "\n",
       "    .dataframe tbody tr th {\n",
       "        vertical-align: top;\n",
       "    }\n",
       "\n",
       "    .dataframe thead th {\n",
       "        text-align: right;\n",
       "    }\n",
       "</style>\n",
       "<table border=\"1\" class=\"dataframe\">\n",
       "  <thead>\n",
       "    <tr style=\"text-align: right;\">\n",
       "      <th></th>\n",
       "      <th>Count</th>\n",
       "    </tr>\n",
       "    <tr>\n",
       "      <th>Name</th>\n",
       "      <th></th>\n",
       "    </tr>\n",
       "  </thead>\n",
       "  <tbody>\n",
       "    <tr>\n",
       "      <th>Jacob</th>\n",
       "      <td>242874</td>\n",
       "    </tr>\n",
       "    <tr>\n",
       "      <th>Emma</th>\n",
       "      <td>214852</td>\n",
       "    </tr>\n",
       "    <tr>\n",
       "      <th>Michael</th>\n",
       "      <td>214405</td>\n",
       "    </tr>\n",
       "    <tr>\n",
       "      <th>Ethan</th>\n",
       "      <td>209277</td>\n",
       "    </tr>\n",
       "    <tr>\n",
       "      <th>Isabella</th>\n",
       "      <td>204798</td>\n",
       "    </tr>\n",
       "    <tr>\n",
       "      <th>William</th>\n",
       "      <td>197894</td>\n",
       "    </tr>\n",
       "    <tr>\n",
       "      <th>Joshua</th>\n",
       "      <td>191551</td>\n",
       "    </tr>\n",
       "    <tr>\n",
       "      <th>Sophia</th>\n",
       "      <td>191446</td>\n",
       "    </tr>\n",
       "    <tr>\n",
       "      <th>Daniel</th>\n",
       "      <td>191440</td>\n",
       "    </tr>\n",
       "    <tr>\n",
       "      <th>Emily</th>\n",
       "      <td>190318</td>\n",
       "    </tr>\n",
       "  </tbody>\n",
       "</table>\n",
       "</div>"
      ]
     },
     "execution_count": 210,
     "metadata": {},
     "output_type": "execute_result"
    }
   ],
   "source": [
    "counted = pd.DataFrame(df.groupby('Name')['Count'].sum())\n",
    "most = counted.sort_values('Count', ascending=False)[:10]\n",
    "most"
   ]
  },
  {
   "cell_type": "code",
   "execution_count": 212,
   "metadata": {},
   "outputs": [
    {
     "data": {
      "text/html": [
       "<div>\n",
       "<style scoped>\n",
       "    .dataframe tbody tr th:only-of-type {\n",
       "        vertical-align: middle;\n",
       "    }\n",
       "\n",
       "    .dataframe tbody tr th {\n",
       "        vertical-align: top;\n",
       "    }\n",
       "\n",
       "    .dataframe thead th {\n",
       "        text-align: right;\n",
       "    }\n",
       "</style>\n",
       "<table border=\"1\" class=\"dataframe\">\n",
       "  <thead>\n",
       "    <tr style=\"text-align: right;\">\n",
       "      <th></th>\n",
       "      <th>Count</th>\n",
       "    </tr>\n",
       "    <tr>\n",
       "      <th>Name</th>\n",
       "      <th></th>\n",
       "    </tr>\n",
       "  </thead>\n",
       "  <tbody>\n",
       "    <tr>\n",
       "      <th>Destenie</th>\n",
       "      <td>5</td>\n",
       "    </tr>\n",
       "    <tr>\n",
       "      <th>Janisha</th>\n",
       "      <td>5</td>\n",
       "    </tr>\n",
       "    <tr>\n",
       "      <th>Lizvet</th>\n",
       "      <td>5</td>\n",
       "    </tr>\n",
       "    <tr>\n",
       "      <th>Arsalan</th>\n",
       "      <td>5</td>\n",
       "    </tr>\n",
       "    <tr>\n",
       "      <th>Janira</th>\n",
       "      <td>5</td>\n",
       "    </tr>\n",
       "    <tr>\n",
       "      <th>Chuck</th>\n",
       "      <td>5</td>\n",
       "    </tr>\n",
       "    <tr>\n",
       "      <th>Sadrac</th>\n",
       "      <td>5</td>\n",
       "    </tr>\n",
       "    <tr>\n",
       "      <th>Theodoros</th>\n",
       "      <td>5</td>\n",
       "    </tr>\n",
       "    <tr>\n",
       "      <th>Sady</th>\n",
       "      <td>5</td>\n",
       "    </tr>\n",
       "    <tr>\n",
       "      <th>Janila</th>\n",
       "      <td>5</td>\n",
       "    </tr>\n",
       "  </tbody>\n",
       "</table>\n",
       "</div>"
      ],
      "text/plain": [
       "<div>\n",
       "<style scoped>\n",
       "    .dataframe tbody tr th:only-of-type {\n",
       "        vertical-align: middle;\n",
       "    }\n",
       "\n",
       "    .dataframe tbody tr th {\n",
       "        vertical-align: top;\n",
       "    }\n",
       "\n",
       "    .dataframe thead th {\n",
       "        text-align: right;\n",
       "    }\n",
       "</style>\n",
       "<table border=\"1\" class=\"dataframe\">\n",
       "  <thead>\n",
       "    <tr style=\"text-align: right;\">\n",
       "      <th></th>\n",
       "      <th>Count</th>\n",
       "    </tr>\n",
       "    <tr>\n",
       "      <th>Name</th>\n",
       "      <th></th>\n",
       "    </tr>\n",
       "  </thead>\n",
       "  <tbody>\n",
       "    <tr>\n",
       "      <th>Destenie</th>\n",
       "      <td>5</td>\n",
       "    </tr>\n",
       "    <tr>\n",
       "      <th>Janisha</th>\n",
       "      <td>5</td>\n",
       "    </tr>\n",
       "    <tr>\n",
       "      <th>Lizvet</th>\n",
       "      <td>5</td>\n",
       "    </tr>\n",
       "    <tr>\n",
       "      <th>Arsalan</th>\n",
       "      <td>5</td>\n",
       "    </tr>\n",
       "    <tr>\n",
       "      <th>Janira</th>\n",
       "      <td>5</td>\n",
       "    </tr>\n",
       "    <tr>\n",
       "      <th>Chuck</th>\n",
       "      <td>5</td>\n",
       "    </tr>\n",
       "    <tr>\n",
       "      <th>Sadrac</th>\n",
       "      <td>5</td>\n",
       "    </tr>\n",
       "    <tr>\n",
       "      <th>Theodoros</th>\n",
       "      <td>5</td>\n",
       "    </tr>\n",
       "    <tr>\n",
       "      <th>Sady</th>\n",
       "      <td>5</td>\n",
       "    </tr>\n",
       "    <tr>\n",
       "      <th>Janila</th>\n",
       "      <td>5</td>\n",
       "    </tr>\n",
       "  </tbody>\n",
       "</table>\n",
       "</div>"
      ]
     },
     "execution_count": 212,
     "metadata": {},
     "output_type": "execute_result"
    }
   ],
   "source": [
    "least = counted.sort_values('Count')[:10]\n",
    "least"
   ]
  },
  {
   "cell_type": "code",
   "execution_count": 216,
   "metadata": {},
   "outputs": [
    {
     "name": "stdout",
     "output_type": "stream",
     "text": [
      "True\nTrue\n"
     ]
    }
   ],
   "source": [
    "def func(string):\n",
    "    return string[0:len(string):2]\n",
    "\n",
    "\n",
    "print(func('hello world') == 'hlowrd')\n",
    "print(func('dlk ezz') == 'dkez')"
   ]
  },
  {
   "cell_type": "code",
   "execution_count": null,
   "metadata": {},
   "outputs": [],
   "source": []
  }
 ],
 "metadata": {
  "kernelspec": {
   "display_name": "Python 2",
   "language": "python",
   "name": "python2"
  },
  "language_info": {
   "codemirror_mode": {
    "name": "ipython",
    "version": 2
   },
   "file_extension": ".py",
   "mimetype": "text/x-python",
   "name": "python",
   "nbconvert_exporter": "python",
   "pygments_lexer": "ipython2",
   "version": "2.7.6"
  }
 },
 "nbformat": 4,
 "nbformat_minor": 0
}
