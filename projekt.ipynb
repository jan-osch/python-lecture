{
 "cells": [
  {
   "cell_type": "markdown",
   "metadata": {},
   "source": [
    "# Projekt Zaliczeniowy\n",
    "\n",
    "Dla przypomnienia: za projekt można otrzymać maksymalnie 35 punktów na 100 punktów z całego przedmiotu (115 w praktyce). Projekty mogą być robione samodzielnie, bądź w parach. Projekty robione w parach muszą być odpowiednio większe.\n",
    "\n",
    "Wymagania:\n",
    "* Kod musi działać,\n",
    "* Kod powinien zawierać co najmniej 300 linii (kodu) / osobę,\n",
    "* Kod powinien być zgodny z przyjętymi standardami stylu, patrz: [PEP 8](https://www.python.org/dev/peps/pep-0008/), [Pylint](https://www.pylint.org/),\n",
    "* Kod powinien zawierać unit testy,\n",
    "* Dostarczenie dokumentacji/opisu projektu,\n",
    "* Zalecane jest trzymanie projektu jako otwartego repozytorium na githubie.\n",
    "\n",
    "\n",
    "Istnieje możliwość zgłaszania swoich tematów, w tym celu proszę wysłać do mnie (igor.sieradzki _at_ doctoral.uj.edu.pl) **przed** zaczęciem pracy krótki dokument zawierający opis projektu zawierający:\n",
    "* temat,\n",
    "* nazwisko(a), \n",
    "* krótki opis projektu wraz z wyszczególnionymi funkcjonalnościami,\n",
    "* specyfikacja: rodzaj projektu (GUI, webapp, konsolowy), użyte technologie (np. django, scikit-learn), itp.\n",
    "\n",
    "Po ewentualnych pytaniach zatwierdzę zaproponowany projekt i dodam do listy (oczywiście już zarezerwowany). W razie wątpliwości zapraszam na mój dyżur: środy 16:00-17:45, czwartki 16:00-18:00.\n",
    "\n",
    "### Lista proponowanych tematów: wkrótce™\n"
   ]
  }
 ],
 "metadata": {
  "kernelspec": {
   "display_name": "Python 3",
   "language": "python",
   "name": "python3"
  },
  "language_info": {
   "codemirror_mode": {
    "name": "ipython",
    "version": 3
   },
   "file_extension": ".py",
   "mimetype": "text/x-python",
   "name": "python",
   "nbconvert_exporter": "python",
   "pygments_lexer": "ipython3",
   "version": "3.6.1"
  }
 },
 "nbformat": 4,
 "nbformat_minor": 2
}
